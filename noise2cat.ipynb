{
 "cells": [
  {
   "cell_type": "code",
   "execution_count": null,
   "metadata": {},
   "outputs": [],
   "source": [
    "from image_functions import image_sampler, oklab_to_linear_srgb, linear_srgb_to_oklab\n",
    "import skimage as ski\n",
    "import matplotlib\n",
    "from matplotlib import pyplot as plt\n",
    "import matplotlib.image as mpimg\n",
    "from jax import vmap\n",
    "import jax.random as jr\n",
    "from IPython.display import HTML\n",
    "\n",
    "matplotlib.rcParams[\"animation.embed_limit\"] = 2**128\n",
    "plt.rcParams[\"axes.spines.right\"] = False\n",
    "plt.rcParams[\"axes.spines.top\"] = False\n",
    "\n"
   ]
  },
  {
   "cell_type": "code",
   "execution_count": null,
   "metadata": {},
   "outputs": [],
   "source": [
    "# read in original image\n",
    "im = mpimg.imread(\"bluecat.png\")\n",
    "\n",
    "# process image. downscaling is important, as it requires simulation of less particles\n",
    "# im = im / 255 # uncomment if reading jpeg\n",
    "im = ski.color.rgba2rgb(im) # uncomment if reading png\n",
    "im = ski.transform.rescale(im, 0.25, channel_axis=-1, anti_aliasing=True, order=3)"
   ]
  },
  {
   "cell_type": "code",
   "execution_count": null,
   "metadata": {},
   "outputs": [],
   "source": [
    "# define and run sampler\n",
    "manager = image_sampler(\n",
    "    im,\n",
    "    num_particles=50000,\n",
    "    loss_space=\"oklab\",\n",
    "    posterization_params={\"posterizer\": \"oklab\", \"n_colors\": 12},\n",
    "    smoother_params={\"kernel_size\": 1, \"kernel_std\": 1.,},\n",
    "    likelihood_params={\"INF\":1e2, 'scaled':True, 'box_bounds':(-6.,6.)},\n",
    "    sampler_params={\"lambd_range\": (-1, 2.), \"annealing_steps\":50,'extra_steps':25},\n",
    ")\n",
    "out = manager.run(jr.key(4))"
   ]
  },
  {
   "cell_type": "code",
   "execution_count": null,
   "metadata": {},
   "outputs": [],
   "source": [
    "# view posterized image\n",
    "plt.imshow(vmap(vmap(oklab_to_linear_srgb))(manager.palette))"
   ]
  },
  {
   "cell_type": "code",
   "execution_count": null,
   "metadata": {},
   "outputs": [],
   "source": [
    "# potentially smoothed reference image. smoothing largely obsolete, not used here\n",
    "plt.imshow(vmap(vmap(oklab_to_linear_srgb))(manager.ref_img))"
   ]
  },
  {
   "cell_type": "code",
   "execution_count": null,
   "metadata": {},
   "outputs": [],
   "source": [
    "# render gif with white smoothing\n",
    "ani = manager.draw_gif('cat_real.gif',render='img',start_frame=0, smoothing_params={'kernel_size':9, 'kernel_std':5.})\n",
    "HTML(ani.to_jshtml())"
   ]
  },
  {
   "cell_type": "code",
   "execution_count": null,
   "metadata": {},
   "outputs": [],
   "source": [
    "# show loss for each particle color. as this plots negative loglikelihood, particles seek\n",
    "# regions with low (dark) values.\n",
    "manager.show_loss_map()"
   ]
  },
  {
   "cell_type": "code",
   "execution_count": null,
   "metadata": {},
   "outputs": [],
   "source": []
  }
 ],
 "metadata": {
  "kernelspec": {
   "display_name": "thesis_env",
   "language": "python",
   "name": "python3"
  },
  "language_info": {
   "codemirror_mode": {
    "name": "ipython",
    "version": 3
   },
   "file_extension": ".py",
   "mimetype": "text/x-python",
   "name": "python",
   "nbconvert_exporter": "python",
   "pygments_lexer": "ipython3",
   "version": "3.11.8"
  }
 },
 "nbformat": 4,
 "nbformat_minor": 2
}
